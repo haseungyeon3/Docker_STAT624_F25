{
 "cells": [
  {
   "cell_type": "markdown",
   "id": "1c90a6a4",
   "metadata": {},
   "source": [
    "**© 2023 Scott Bruce**"
   ]
  },
  {
   "cell_type": "markdown",
   "id": "370525e6",
   "metadata": {},
   "source": [
    "# Sample Jupyter notebook \n",
    "\n",
    "This is a test Jupyter notebook to verify that your Jupyter notebook environment can access the Postgres database environment properly.  Run the entire notebook by selecting `Kernel` in the menu above and selecting `Restart & Run All`.  If your connection is successful, the `engine.execute(\"SELECT * FROM customers LIMIT 2;\").fetchall()` should return the first two rows in the customers table like this (if you install sqlalchemy 1.4 on your container, use engine.execute(). if you are using higher version (2.0), use engine.connect():\n",
    "\n",
    "`[(1, None, 'Arlena', 'Riveles', None, 'ariveles0@stumbleupon.com', 'F', '98.36.172.246', None, None, None, None, None, None, None, datetime.datetime(2017, 4, 23, 0, 0)),\n",
    " (2, 'Dr', 'Ode', 'Stovin', None, 'ostovin1@npr.org', 'M', '16.97.59.186', '314-534-4361', '2573 Fordem Parkway', 'Saint Louis', 'MO', '63116', 38.5814, -90.2625, datetime.datetime(2014, 10, 2, 0, 0))]` "
   ]
  },
  {
   "cell_type": "code",
   "execution_count": 2,
   "id": "d0731ce3",
   "metadata": {},
   "outputs": [],
   "source": [
    "from IPython.core.interactiveshell import InteractiveShell\n",
    "InteractiveShell.ast_node_interactivity = \"all\""
   ]
  },
  {
   "cell_type": "code",
   "execution_count": 3,
   "id": "bc43e2e1",
   "metadata": {},
   "outputs": [],
   "source": [
    "from sqlalchemy import create_engine,text\n",
    "import pandas as pd\n"
   ]
  },
  {
   "cell_type": "code",
   "execution_count": 4,
   "id": "8d1f6f08",
   "metadata": {},
   "outputs": [],
   "source": [
    "%matplotlib inline"
   ]
  },
  {
   "cell_type": "code",
   "execution_count": 5,
   "id": "86e8f22a",
   "metadata": {},
   "outputs": [
    {
     "name": "stdout",
     "output_type": "stream",
     "text": [
      "postgresql+psycopg2://{username}:{pswd}@{host}:{port}/{database}\n"
     ]
    }
   ],
   "source": [
    "cnxn_string = (\"postgresql+psycopg2://{username}:{pswd}\"\n",
    "              \"@{host}:{port}/{database}\")\n",
    "print(cnxn_string)"
   ]
  },
  {
   "cell_type": "code",
   "execution_count": 6,
   "id": "5493972c",
   "metadata": {},
   "outputs": [],
   "source": [
    "engine = create_engine(cnxn_string.format(\n",
    "    username=\"postgres\",\n",
    "    pswd=\"stat1234\",\n",
    "    host=\"postgres\",\n",
    "    port=5432,\n",
    "    database=\"sqlda\"))\n"
   ]
  },
  {
   "cell_type": "code",
   "execution_count": 7,
   "id": "0dced699-32a6-48f9-a35b-a7eba6bb6830",
   "metadata": {},
   "outputs": [
    {
     "data": {
      "text/plain": [
       "[(1, None, 'Arlena', 'Riveles', None, 'ariveles0@stumbleupon.com', 'F', '98.36.172.246', None, None, None, None, None, None, None, datetime.datetime(2017, 4, 23, 0, 0)),\n",
       " (2, 'Dr', 'Ode', 'Stovin', None, 'ostovin1@npr.org', 'M', '16.97.59.186', '314-534-4361', '2573 Fordem Parkway', 'Saint Louis', 'MO', '63116', 38.5814, -90.2625, datetime.datetime(2014, 10, 2, 0, 0))]"
      ]
     },
     "execution_count": 7,
     "metadata": {},
     "output_type": "execute_result"
    }
   ],
   "source": [
    "with engine.connect() as conn:\n",
    "    result=conn.execute(text(\"select * from customers limit 2\"))\n",
    "    result.fetchall()\n",
    " "
   ]
  },
  {
   "cell_type": "code",
   "execution_count": null,
   "id": "97a22ba0-4bfe-47a2-b2e4-85fd6736b70a",
   "metadata": {},
   "outputs": [],
   "source": []
  }
 ],
 "metadata": {
  "kernelspec": {
   "display_name": "Python 3 (ipykernel)",
   "language": "python",
   "name": "python3"
  },
  "language_info": {
   "codemirror_mode": {
    "name": "ipython",
    "version": 3
   },
   "file_extension": ".py",
   "mimetype": "text/x-python",
   "name": "python",
   "nbconvert_exporter": "python",
   "pygments_lexer": "ipython3",
   "version": "3.11.7"
  }
 },
 "nbformat": 4,
 "nbformat_minor": 5
}
